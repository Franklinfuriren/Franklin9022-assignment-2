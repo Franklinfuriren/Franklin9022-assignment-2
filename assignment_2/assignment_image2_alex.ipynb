{
 "cells": [
  {
   "cell_type": "code",
   "execution_count": 1,
   "id": "aa95b0f1",
   "metadata": {},
   "outputs": [],
   "source": [
    "import torch\n",
    "import torchvision\n",
    "import torchvision.transforms as transforms\n",
    "import torch.nn as nn\n",
    "import tqdm\n",
    "import matplotlib.pyplot as plt"
   ]
  },
  {
   "cell_type": "code",
   "execution_count": 2,
   "id": "acf979b6",
   "metadata": {},
   "outputs": [
    {
     "name": "stdout",
     "output_type": "stream",
     "text": [
      "mps\n"
     ]
    }
   ],
   "source": [
    "# Select device to accelerate the computation\n",
    "#check if CUDA is available\n",
    "device = torch.device(\"cuda:0\" if torch.cuda.is_available() else \"cpu\")\n",
    "#check if MPS is available\n",
    "device = torch.device(\"mps\" if torch.backends.mps.is_available() else device)\n",
    "\n",
    "print(device)"
   ]
  },
  {
   "cell_type": "code",
   "execution_count": 3,
   "id": "15e2edd8",
   "metadata": {},
   "outputs": [
    {
     "name": "stdout",
     "output_type": "stream",
     "text": [
      "trainset size:  50000\n",
      "testset size:  10000\n"
     ]
    }
   ],
   "source": [
    "transform = transforms.Compose(\n",
    "    [transforms.ToTensor(),\n",
    "     transforms.Normalize((0.5, 0.5, 0.5), (0.5, 0.5, 0.5))])\n",
    "\n",
    "batch_size = 256\n",
    "\n",
    "trainset = torchvision.datasets.CIFAR10(root='./data', train=True,\n",
    "                                        download=True, transform=transform)\n",
    "trainloader = torch.utils.data.DataLoader(trainset, batch_size=batch_size,\n",
    "                                          shuffle=True, num_workers=2)\n",
    "\n",
    "testset = torchvision.datasets.CIFAR10(root='./data', train=False,\n",
    "                                       download=True, transform=transform)\n",
    "testloader = torch.utils.data.DataLoader(testset, batch_size=batch_size,\n",
    "                                         shuffle=False, num_workers=2)\n",
    "\n",
    "classes = ('plane', 'car', 'bird', 'cat',\n",
    "           'deer', 'dog', 'frog', 'horse', 'ship', 'truck')\n",
    "\n",
    "print(\"trainset size: \", len(trainset))\n",
    "print(\"testset size: \", len(testset))"
   ]
  },
  {
   "cell_type": "code",
   "execution_count": 4,
   "id": "a0e62c9e",
   "metadata": {},
   "outputs": [
    {
     "name": "stdout",
     "output_type": "stream",
     "text": [
      "EncoderNet(\n",
      "  (conv1): Conv2d(3, 32, kernel_size=(3, 3), stride=(1, 1), padding=(1, 1))\n",
      "  (pool1): MaxPool2d(kernel_size=2, stride=2, padding=0, dilation=1, ceil_mode=False)\n",
      "  (conv2): Conv2d(32, 64, kernel_size=(3, 3), stride=(1, 1), padding=(1, 1))\n",
      "  (pool2): MaxPool2d(kernel_size=2, stride=2, padding=0, dilation=1, ceil_mode=False)\n",
      "  (conv3): Conv2d(64, 128, kernel_size=(3, 3), stride=(1, 1), padding=(1, 1))\n",
      "  (pool3): MaxPool2d(kernel_size=2, stride=2, padding=0, dilation=1, ceil_mode=False)\n",
      ")\n"
     ]
    }
   ],
   "source": [
    "class EncoderNet(nn.Module):\n",
    "    def __init__(self):\n",
    "        super().__init__()\n",
    "        # first layer: 3 input channels, 32 output channels, 3x3 convolutions\n",
    "        self.conv1 = nn.Conv2d(3, 32, kernel_size=3, padding=1)\n",
    "        self.pool1 = nn.MaxPool2d(2, 2)\n",
    "\n",
    "        # second layer: 32 input channels, 64 output channels, 3x3 convolutions\n",
    "        self.conv2 = nn.Conv2d(32, 64, kernel_size=3, padding=1)\n",
    "        self.pool2 = nn.MaxPool2d(2, 2)\n",
    "\n",
    "        # third layer: 64 input channels, 128 output channels, 3x3 convolutions\n",
    "        self.conv3 = nn.Conv2d(64, 128, kernel_size=3, padding=1)\n",
    "        self.pool3 = nn.MaxPool2d(2, 2)\n",
    "\n",
    "    def forward(self, x):\n",
    "        # layer 1 conv + ReLU + pool\n",
    "        x = self.pool1(torch.relu(self.conv1(x)))\n",
    "        # layer 2 conv + ReLU + pool\n",
    "        x = self.pool2(torch.relu(self.conv2(x)))\n",
    "        # layer 3 conv + ReLU + pool\n",
    "        x = self.pool3(torch.relu(self.conv3(x)))\n",
    "\n",
    "        return x\n",
    "\n",
    "\n",
    "encoder = EncoderNet()\n",
    "print(encoder)"
   ]
  },
  {
   "cell_type": "code",
   "execution_count": 5,
   "id": "8888703a",
   "metadata": {},
   "outputs": [
    {
     "name": "stdout",
     "output_type": "stream",
     "text": [
      "torch.Size([1, 3, 32, 32])\n",
      "torch.Size([1, 128, 4, 4])\n"
     ]
    }
   ],
   "source": [
    "# get one random image from the training set\n",
    "dataiter = iter(trainloader)\n",
    "images, labels = next(dataiter)\n",
    "\n",
    "image = images[0]\n",
    "image = image.unsqueeze(0)\n",
    "print(image.shape)\n",
    "\n",
    "output = encoder(image)\n",
    "print(output.shape)"
   ]
  },
  {
   "cell_type": "code",
   "execution_count": 6,
   "id": "774cf16c",
   "metadata": {},
   "outputs": [
    {
     "name": "stdout",
     "output_type": "stream",
     "text": [
      "DecoderNet(\n",
      "  (deconv1): ConvTranspose2d(128, 128, kernel_size=(3, 3), stride=(2, 2), padding=(1, 1), output_padding=(1, 1))\n",
      "  (deconv2): ConvTranspose2d(128, 64, kernel_size=(3, 3), stride=(2, 2), padding=(1, 1), output_padding=(1, 1))\n",
      "  (deconv3): ConvTranspose2d(64, 32, kernel_size=(3, 3), stride=(2, 2), padding=(1, 1), output_padding=(1, 1))\n",
      "  (final_conv): Conv2d(32, 3, kernel_size=(3, 3), stride=(1, 1), padding=(1, 1))\n",
      ")\n"
     ]
    }
   ],
   "source": [
    "class DecoderNet(nn.Module):\n",
    "    def __init__(self):\n",
    "        super(DecoderNet, self).__init__()\n",
    "\n",
    "        # Define the layers\n",
    "        self.deconv1 = nn.ConvTranspose2d(\n",
    "            128, 128, kernel_size=3, stride=2, padding=1, output_padding=1)\n",
    "        self.deconv2 = nn.ConvTranspose2d(\n",
    "            128, 64, kernel_size=3, stride=2, padding=1, output_padding=1)\n",
    "        self.deconv3 = nn.ConvTranspose2d(\n",
    "            64, 32, kernel_size=3, stride=2, padding=1, output_padding=1)\n",
    "\n",
    "        # Final convolution to get 3 output channels (RGB image)\n",
    "        self.final_conv = nn.Conv2d(32, 3, kernel_size=3, stride=1, padding=1)\n",
    "\n",
    "    def forward(self, x):\n",
    "        # Apply each deconvolution (upsampling) layer\n",
    "        x = torch.relu(self.deconv1(x))  # Upsample to (128, 8, 8)\n",
    "        x = torch.relu(self.deconv2(x))  # Upsample to (64, 16, 16)\n",
    "        x = torch.relu(self.deconv3(x))  # Upsample to (32, 32, 32)\n",
    "\n",
    "        # Apply final convolution and get RGB output\n",
    "        x = torch.sigmoid(self.final_conv(x))  # Output RGB image (3 channels)\n",
    "\n",
    "        return x\n",
    "\n",
    "\n",
    "# Example usage:\n",
    "# Example latent input with 128 channels and 4x4 spatial size\n",
    "decoder = DecoderNet()\n",
    "print(decoder)"
   ]
  },
  {
   "cell_type": "code",
   "execution_count": 7,
   "id": "77893ee6",
   "metadata": {},
   "outputs": [
    {
     "name": "stdout",
     "output_type": "stream",
     "text": [
      "torch.Size([1, 128, 4, 4])\n",
      "torch.Size([1, 3, 32, 32])\n"
     ]
    }
   ],
   "source": [
    "# get one random image from the training set\n",
    "decoder_input = output\n",
    "\n",
    "decoder_output = decoder(decoder_input)\n",
    "print(decoder_input.shape)\n",
    "print(decoder_output.shape)"
   ]
  },
  {
   "cell_type": "code",
   "execution_count": 8,
   "id": "eb5dda69",
   "metadata": {},
   "outputs": [
    {
     "name": "stdout",
     "output_type": "stream",
     "text": [
      "ClassifierNet(\n",
      "  (flatten): Flatten(start_dim=1, end_dim=-1)\n",
      "  (fc1): Linear(in_features=2048, out_features=256, bias=True)\n",
      "  (dropout): Dropout(p=0.5, inplace=False)\n",
      "  (fc2): Linear(in_features=256, out_features=10, bias=True)\n",
      ")\n"
     ]
    }
   ],
   "source": [
    "class ClassifierNet(nn.Module):\n",
    "    def __init__(self):\n",
    "        super(ClassifierNet, self).__init__()\n",
    "\n",
    "        # Define the layers\n",
    "        self.flatten = nn.Flatten()  # Flatten the input\n",
    "        self.fc1 = nn.Linear(128 * 4 * 4, 256)  # First fully connected layer\n",
    "        self.dropout = nn.Dropout(0.5)  # Dropout layer\n",
    "        # Final fully connected layer to output class probabilities\n",
    "        self.fc2 = nn.Linear(256, 10)\n",
    "\n",
    "    def forward(self, x):\n",
    "        x = self.flatten(x)  # Flatten the input\n",
    "        # Apply ReLU activation after the first fully connected layer\n",
    "        x = torch.relu(self.fc1(x))\n",
    "        x = self.dropout(x)  # Apply dropout\n",
    "        x = self.fc2(x)  # Output layer\n",
    "        return x\n",
    "\n",
    "\n",
    "classifier = ClassifierNet()\n",
    "print(classifier)"
   ]
  },
  {
   "cell_type": "code",
   "execution_count": 9,
   "id": "57334a11",
   "metadata": {},
   "outputs": [
    {
     "name": "stdout",
     "output_type": "stream",
     "text": [
      "torch.Size([1, 128, 4, 4])\n",
      "torch.Size([1, 10])\n"
     ]
    }
   ],
   "source": [
    "classifier_input = output\n",
    "classifier_output = classifier(classifier_input)\n",
    "print(classifier_input.shape)\n",
    "print(classifier_output.shape)"
   ]
  },
  {
   "cell_type": "code",
   "execution_count": 10,
   "id": "b3b7956b",
   "metadata": {},
   "outputs": [
    {
     "name": "stdout",
     "output_type": "stream",
     "text": [
      "DualHeadNet(\n",
      "  (encoder): EncoderNet(\n",
      "    (conv1): Conv2d(3, 32, kernel_size=(3, 3), stride=(1, 1), padding=(1, 1))\n",
      "    (pool1): MaxPool2d(kernel_size=2, stride=2, padding=0, dilation=1, ceil_mode=False)\n",
      "    (conv2): Conv2d(32, 64, kernel_size=(3, 3), stride=(1, 1), padding=(1, 1))\n",
      "    (pool2): MaxPool2d(kernel_size=2, stride=2, padding=0, dilation=1, ceil_mode=False)\n",
      "    (conv3): Conv2d(64, 128, kernel_size=(3, 3), stride=(1, 1), padding=(1, 1))\n",
      "    (pool3): MaxPool2d(kernel_size=2, stride=2, padding=0, dilation=1, ceil_mode=False)\n",
      "  )\n",
      "  (decoder): DecoderNet(\n",
      "    (deconv1): ConvTranspose2d(128, 128, kernel_size=(3, 3), stride=(2, 2), padding=(1, 1), output_padding=(1, 1))\n",
      "    (deconv2): ConvTranspose2d(128, 64, kernel_size=(3, 3), stride=(2, 2), padding=(1, 1), output_padding=(1, 1))\n",
      "    (deconv3): ConvTranspose2d(64, 32, kernel_size=(3, 3), stride=(2, 2), padding=(1, 1), output_padding=(1, 1))\n",
      "    (final_conv): Conv2d(32, 3, kernel_size=(3, 3), stride=(1, 1), padding=(1, 1))\n",
      "  )\n",
      "  (classifier): ClassifierNet(\n",
      "    (flatten): Flatten(start_dim=1, end_dim=-1)\n",
      "    (fc1): Linear(in_features=2048, out_features=256, bias=True)\n",
      "    (dropout): Dropout(p=0.5, inplace=False)\n",
      "    (fc2): Linear(in_features=256, out_features=10, bias=True)\n",
      "  )\n",
      ")\n"
     ]
    }
   ],
   "source": [
    "class DualHeadNet(nn.Module):\n",
    "    def __init__(self):\n",
    "        super().__init__()\n",
    "        self.encoder = EncoderNet()  # shared encoder\n",
    "\n",
    "        # decoder\n",
    "        self.decoder = DecoderNet()\n",
    "\n",
    "        # classifier\n",
    "        self.classifier = ClassifierNet()\n",
    "\n",
    "    def forward(self, x):\n",
    "        latent = self.encoder(x)\n",
    "        reconstruction = self.decoder(latent)\n",
    "        class_logits = self.classifier(latent)\n",
    "        return reconstruction, class_logits\n",
    "    \n",
    "dual_head_net = DualHeadNet()\n",
    "print(dual_head_net)"
   ]
  },
  {
   "cell_type": "code",
   "execution_count": 11,
   "id": "aa60bee2",
   "metadata": {},
   "outputs": [
    {
     "name": "stdout",
     "output_type": "stream",
     "text": [
      "torch.Size([1, 3, 32, 32])\n",
      "torch.Size([1, 10])\n"
     ]
    }
   ],
   "source": [
    "output = dual_head_net(image)\n",
    "print(output[0].shape)\n",
    "print(output[1].shape)"
   ]
  },
  {
   "cell_type": "code",
   "execution_count": 12,
   "id": "8ed9d80b",
   "metadata": {},
   "outputs": [],
   "source": [
    "def cal_total_loss(recon_loss, class_loss, alpha=1.0, beta=1.0):\n",
    "    return alpha * recon_loss + beta * class_loss\n",
    "\n",
    "\n",
    "def evaluation(dataloader, model, reconstruction_criterion, classification_criterion, alpha, beta):\n",
    "    model.eval()\n",
    "    total_samples = 0\n",
    "    total_recon_loss = 0.0\n",
    "    total_class_loss = 0.0\n",
    "    batch_count = 0\n",
    "    correct = 0\n",
    "\n",
    "    with torch.no_grad():\n",
    "        for data in dataloader:\n",
    "            # get the inputs; data is a list of [inputs, labels]\n",
    "            images, labels = data\n",
    "            images, labels = images.to(device), labels.to(device)\n",
    "\n",
    "            # forward\n",
    "            recon, logits = model(images)\n",
    "            recon_loss = reconstruction_criterion(recon, images).item()\n",
    "            class_loss = classification_criterion(logits, labels).item()\n",
    "\n",
    "            batch_size = images.size(0)\n",
    "            total_samples += batch_size\n",
    "            total_recon_loss += recon_loss * batch_size\n",
    "            total_class_loss += class_loss * batch_size\n",
    "\n",
    "            # 准确率统计\n",
    "            pred = logits.argmax(dim=1)\n",
    "            correct += pred.eq(labels).sum().item()\n",
    "\n",
    "    avg_recon = total_recon_loss / total_samples\n",
    "    avg_class = total_class_loss / total_samples\n",
    "    total_loss = cal_total_loss(avg_recon, avg_class, alpha, beta)\n",
    "    acc = 100. * correct / total_samples\n",
    "\n",
    "    return avg_recon, avg_class, total_loss, acc\n",
    "\n",
    "\n",
    "def train(model, dataloader, epoch, alpha, beta,  optimizer=None, recon_criterion=None, class_criterion=None):\n",
    "    model.train()\n",
    "    total_recon_loss = 0.0\n",
    "    total_class_loss = 0.0\n",
    "    batch_count = 0\n",
    "    correct = 0\n",
    "\n",
    "    for batch_idx, (images, labels) in enumerate(dataloader):\n",
    "        # get the inputs; data is a list of [inputs, labels]\n",
    "        batch_count += 1\n",
    "        images = images.to(device)\n",
    "        labels = labels.to(device)\n",
    "\n",
    "        # forward\n",
    "        recon_images, class_logits = model(images)\n",
    "\n",
    "        # compute loss\n",
    "        loss_recon = recon_criterion(recon_images, images)\n",
    "        loss_class = class_criterion(class_logits, labels)\n",
    "        total_loss = cal_total_loss(loss_recon, loss_class, alpha, beta)\n",
    "\n",
    "        # backward and optimize\n",
    "        optimizer.zero_grad()\n",
    "        total_loss.backward()\n",
    "        optimizer.step()\n",
    "\n",
    "        # collect statistics\n",
    "        total_recon_loss += loss_recon.item()\n",
    "        total_class_loss += loss_class.item()\n",
    "        pred = class_logits.argmax(dim=1)\n",
    "        correct += pred.eq(labels).sum().item()\n",
    "\n",
    "    # calculate statistics for the epoch\n",
    "    avg_recon = total_recon_loss / batch_count\n",
    "    avg_class = total_class_loss / batch_count\n",
    "    avg_total_loss = cal_total_loss(avg_recon, avg_class, alpha, beta)\n",
    "    acc = 100. * correct / batch_count\n",
    "\n",
    "    return {\n",
    "        'total_loss': avg_total_loss,\n",
    "        'recon_loss': avg_recon,\n",
    "        'class_loss': avg_class,\n",
    "        'acc': acc\n",
    "    }"
   ]
  },
  {
   "cell_type": "code",
   "execution_count": 13,
   "id": "1578cce6",
   "metadata": {},
   "outputs": [],
   "source": [
    "# define the loss function\n",
    "recon_criterion = nn.MSELoss()         # reconstruction loss\n",
    "class_criterion = nn.CrossEntropyLoss()  # classification loss\n",
    "\n",
    "# define important constant training parameters\n",
    "NUM_EPOCHS = 1000\n",
    "EARLY_STOPPING = 10"
   ]
  },
  {
   "cell_type": "code",
   "execution_count": 14,
   "id": "37bb8ebf",
   "metadata": {},
   "outputs": [
    {
     "name": "stderr",
     "output_type": "stream",
     "text": [
      "Training:   2%|▏         | 20/1000 [12:18<10:02:49, 36.91s/epoch]"
     ]
    },
    {
     "name": "stdout",
     "output_type": "stream",
     "text": [
      "Early stopping triggered at epoch 21\n"
     ]
    },
    {
     "name": "stderr",
     "output_type": "stream",
     "text": [
      "\n"
     ]
    },
    {
     "name": "stdout",
     "output_type": "stream",
     "text": [
      "Final => Avg Recon Loss: 0.1558 | Avg Class Loss: 0.7133 | Total loss: 0.8691 | Class Acc: 75.62%\n"
     ]
    }
   ],
   "source": [
    "# Alpha is 1.0 and Beta is 1.0\n",
    "alpha = 1.0\n",
    "beta = 1.0\n",
    "filename = 'best_model_a1_b1.pth'\n",
    "\n",
    "# define the model, optimizer, and scheduler\n",
    "model = DualHeadNet().to(device)\n",
    "optimizer = torch.optim.Adam(model.parameters(), lr=0.001)\n",
    "scheduler = torch.optim.lr_scheduler.CosineAnnealingLR(\n",
    "    optimizer,\n",
    "    T_max=25,  # maximum number of epochs\n",
    "    eta_min=1e-5  # minimum learning rate\n",
    ")\n",
    "\n",
    "# train the model\n",
    "best_val_loss = float('inf')\n",
    "no_improve_epochs = 0  # number of epochs with no improvement\n",
    "\n",
    "epoch_pbar = tqdm.tqdm(range(NUM_EPOCHS), desc=\"Training\", unit=\"epoch\")\n",
    "min_avg_total_loss = 0\n",
    "epochs = 0\n",
    "\n",
    "train_losses = []\n",
    "val_losses = []\n",
    "\n",
    "for epoch in epoch_pbar:\n",
    "    all_train_metrics = train(model, trainloader, epoch, alpha, beta,\n",
    "                              optimizer, recon_criterion, class_criterion)\n",
    "    train_losses.append(all_train_metrics['total_loss'])\n",
    "\n",
    "    avg_recon, avg_class, total_loss, acc = evaluation(\n",
    "        testloader, model, recon_criterion, class_criterion, alpha, beta)\n",
    "    val_losses.append(total_loss)\n",
    "\n",
    "    scheduler.step()\n",
    "    if total_loss < best_val_loss:\n",
    "        best_val_loss = total_loss\n",
    "        no_improve_epochs = 0\n",
    "        torch.save(model.state_dict(), filename)  # save best model\n",
    "    else:\n",
    "        no_improve_epochs += 1\n",
    "        if no_improve_epochs >= EARLY_STOPPING:\n",
    "            epoch_pbar.write(f\"Early stopping triggered at epoch {epoch+1}\")\n",
    "            early_stop = True\n",
    "            break\n",
    "\n",
    "model.load_state_dict(torch.load(filename))\n",
    "avg_recon, avg_class, total_loss, acc = evaluation(testloader, model, recon_criterion,\n",
    "                                                   class_criterion, alpha, beta)\n",
    "\n",
    "print(f'Final => '\n",
    "      f'Avg Recon Loss: {avg_recon:.4f} | '\n",
    "      f'Avg Class Loss: {avg_class:.4f} | '\n",
    "      f'Total loss: {total_loss:.4f} | '\n",
    "      f'Class Acc: {acc:.2f}%')"
   ]
  },
  {
   "cell_type": "code",
   "execution_count": 15,
   "id": "7be37cf3",
   "metadata": {},
   "outputs": [
    {
     "data": {
      "image/png": "[encoded data removed]",
      "text/plain": [
       "<Figure size 640x480 with 1 Axes>"
      ]
     },
     "metadata": {},
     "output_type": "display_data"
    }
   ],
   "source": [
    "# plot the training and validation loss\n",
    "plt.plot(train_losses, label='Training Loss')\n",
    "plt.plot(val_losses, label='Validation Loss')\n",
    "plt.title('Training and Validation Loss alpha=1.0, beta=1.0')\n",
    "plt.xlabel('Epoch')\n",
    "plt.ylabel('Loss')\n",
    "plt.legend()\n",
    "plt.show()"
   ]
  },
  {
   "cell_type": "code",
   "execution_count": 16,
   "id": "5252476d",
   "metadata": {},
   "outputs": [
    {
     "name": "stderr",
     "output_type": "stream",
     "text": [
      "Training:   3%|▎         | 26/1000 [15:50<9:53:32, 36.56s/epoch]"
     ]
    },
    {
     "name": "stdout",
     "output_type": "stream",
     "text": [
      "Early stopping triggered at epoch 27\n"
     ]
    },
    {
     "name": "stderr",
     "output_type": "stream",
     "text": [
      "\n"
     ]
    },
    {
     "name": "stdout",
     "output_type": "stream",
     "text": [
      "Final => Avg Recon Loss: 0.1504 | Avg Class Loss: 0.7158 | Total loss: 2.2194 | Class Acc: 75.60%\n"
     ]
    }
   ],
   "source": [
    "# Alpha is 10.0 and Beta is 1.0\n",
    "alpha = 10.0\n",
    "beta = 1.0\n",
    "filename = 'best_model_a10_b1.pth'\n",
    "\n",
    "# define the model, optimizer, and scheduler\n",
    "model = DualHeadNet().to(device)\n",
    "optimizer = torch.optim.Adam(model.parameters(), lr=0.001)\n",
    "scheduler = torch.optim.lr_scheduler.CosineAnnealingLR(\n",
    "    optimizer,     T_max=50,  # maximum number of epochs\n",
    "    eta_min=1e-5  # minimum learning rate\n",
    ")\n",
    "# train the model\n",
    "best_val_loss = float('inf')\n",
    "no_improve_epochs = 0  # number of epochs with no improvement\n",
    "\n",
    "epoch_pbar = tqdm.tqdm(range(NUM_EPOCHS), desc=\"Training\", unit=\"epoch\")\n",
    "min_avg_total_loss = 0\n",
    "epochs = 0\n",
    "\n",
    "train_losses = []\n",
    "val_losses = []\n",
    "\n",
    "for epoch in epoch_pbar:\n",
    "    all_train_metrics = train(model, trainloader, epoch, alpha, beta,\n",
    "                              optimizer, recon_criterion, class_criterion)\n",
    "    train_losses.append(all_train_metrics['total_loss'])\n",
    "\n",
    "    avg_recon, avg_class, total_loss, acc = evaluation(\n",
    "        testloader, model, recon_criterion, class_criterion, alpha, beta)\n",
    "    val_losses.append(total_loss)\n",
    "\n",
    "    scheduler.step()\n",
    "    if total_loss < best_val_loss:\n",
    "        best_val_loss = total_loss\n",
    "        no_improve_epochs = 0\n",
    "        torch.save(model.state_dict(), filename)  # save best model\n",
    "    else:\n",
    "        no_improve_epochs += 1\n",
    "        if no_improve_epochs >= EARLY_STOPPING:\n",
    "            epoch_pbar.write(f\"Early stopping triggered at epoch {epoch+1}\")\n",
    "            early_stop = True\n",
    "            break\n",
    "\n",
    "model.load_state_dict(torch.load(filename))\n",
    "avg_recon, avg_class, total_loss, acc = evaluation(testloader, model, recon_criterion,\n",
    "                                                   class_criterion, alpha, beta)\n",
    "\n",
    "print(f'Final => '\n",
    "      f'Avg Recon Loss: {avg_recon:.4f} | '\n",
    "      f'Avg Class Loss: {avg_class:.4f} | '\n",
    "      f'Total loss: {total_loss:.4f} | '\n",
    "      f'Class Acc: {acc:.2f}%')"
   ]
  },
  {
   "cell_type": "code",
   "execution_count": 17,
   "id": "f908c778",
   "metadata": {},
   "outputs": [
    {
     "data": {
      "image/png": "[encoded data removed]",
      "text/plain": [
       "<Figure size 640x480 with 1 Axes>"
      ]
     },
     "metadata": {},
     "output_type": "display_data"
    }
   ],
   "source": [
    "# plot the training and validation loss\n",
    "plt.plot(train_losses, label='Training Loss')\n",
    "plt.plot(val_losses, label='Validation Loss')\n",
    "plt.title('Training and Validation Loss alpha=10.0, beta=1.0')\n",
    "plt.xlabel('Epoch')\n",
    "plt.ylabel('Loss')\n",
    "plt.legend()\n",
    "plt.show()"
   ]
  },
  {
   "cell_type": "code",
   "execution_count": 18,
   "id": "6fbf6fb7",
   "metadata": {},
   "outputs": [
    {
     "name": "stderr",
     "output_type": "stream",
     "text": [
      "Training:   2%|▏         | 22/1000 [13:36<10:04:49, 37.11s/epoch]"
     ]
    },
    {
     "name": "stdout",
     "output_type": "stream",
     "text": [
      "Early stopping triggered at epoch 23\n"
     ]
    },
    {
     "name": "stderr",
     "output_type": "stream",
     "text": [
      "\n"
     ]
    },
    {
     "name": "stdout",
     "output_type": "stream",
     "text": [
      "Final => Avg Recon Loss: 0.1565 | Avg Class Loss: 0.7217 | Total loss: 8.7819 | Class Acc: 75.59%\n"
     ]
    }
   ],
   "source": [
    "# Alpha is 10.0 and Beta is 10.0\n",
    "alpha = 10.0\n",
    "beta = 10.0\n",
    "filename = 'best_model_a10_b10.pth'\n",
    "\n",
    "# define the model, optimizer, and scheduler\n",
    "model = DualHeadNet().to(device)\n",
    "optimizer = torch.optim.Adam(model.parameters(), lr=0.001)\n",
    "scheduler = torch.optim.lr_scheduler.CosineAnnealingLR(\n",
    "    optimizer,     T_max=50,  # maximum number of epochs\n",
    "    eta_min=1e-5  # minimum learning rate\n",
    ")\n",
    "\n",
    "# train the model\n",
    "best_val_loss = float('inf')\n",
    "no_improve_epochs = 0  # number of epochs with no improvement\n",
    "\n",
    "epoch_pbar = tqdm.tqdm(range(NUM_EPOCHS), desc=\"Training\", unit=\"epoch\")\n",
    "min_avg_total_loss = 0\n",
    "epochs = 0\n",
    "\n",
    "train_losses = []\n",
    "val_losses = []\n",
    "\n",
    "for epoch in epoch_pbar:\n",
    "    all_train_metrics = train(model, trainloader, epoch, alpha, beta,\n",
    "                              optimizer, recon_criterion, class_criterion)\n",
    "    train_losses.append(all_train_metrics['total_loss'])\n",
    "\n",
    "    avg_recon, avg_class, total_loss, acc = evaluation(\n",
    "        testloader, model, recon_criterion, class_criterion, alpha, beta)\n",
    "    val_losses.append(total_loss)\n",
    "\n",
    "    scheduler.step()\n",
    "    if total_loss < best_val_loss:\n",
    "        best_val_loss = total_loss\n",
    "        no_improve_epochs = 0\n",
    "        torch.save(model.state_dict(), filename)  # save best model\n",
    "    else:\n",
    "        no_improve_epochs += 1\n",
    "        if no_improve_epochs >= EARLY_STOPPING:\n",
    "            epoch_pbar.write(f\"Early stopping triggered at epoch {epoch+1}\")\n",
    "            early_stop = True\n",
    "            break\n",
    "\n",
    "model.load_state_dict(torch.load(filename))\n",
    "avg_recon, avg_class, total_loss, acc = evaluation(testloader, model, recon_criterion,\n",
    "                                                   class_criterion, alpha, beta)\n",
    "\n",
    "print(f'Final => '\n",
    "      f'Avg Recon Loss: {avg_recon:.4f} | '\n",
    "      f'Avg Class Loss: {avg_class:.4f} | '\n",
    "      f'Total loss: {total_loss:.4f} | '\n",
    "      f'Class Acc: {acc:.2f}%')"
   ]
  },
  {
   "cell_type": "code",
   "execution_count": 19,
   "id": "c57f27d2",
   "metadata": {},
   "outputs": [
    {
     "data": {
      "image/png": "[encoded data removed]",
      "text/plain": [
       "<Figure size 640x480 with 1 Axes>"
      ]
     },
     "metadata": {},
     "output_type": "display_data"
    }
   ],
   "source": [
    "# plot the training and validation loss\n",
    "plt.plot(train_losses, label='Training Loss')\n",
    "plt.plot(val_losses, label='Validation Loss')\n",
    "plt.title('Training and Validation Loss alpha=10.0, beta=10.0')\n",
    "plt.xlabel('Epoch')\n",
    "plt.ylabel('Loss')\n",
    "plt.legend()\n",
    "plt.show()"
   ]
  },
  {
   "cell_type": "code",
   "execution_count": null,
   "id": "927d0c85",
   "metadata": {},
   "outputs": [
    {
     "name": "stderr",
     "output_type": "stream",
     "text": [
      "Training:   2%|▏         | 17/1000 [10:00<9:36:05, 35.16s/epoch]"
     ]
    }
   ],
   "source": [
    "# Alpha is 5.0 and Beta is 5.0\n",
    "alpha = 5.0\n",
    "beta = 5.0\n",
    "filename = 'best_model_a5_b5.pth'\n",
    "\n",
    "# define the model, optimizer, and scheduler\n",
    "model = DualHeadNet().to(device)\n",
    "optimizer = torch.optim.Adam(model.parameters(), lr=0.001)\n",
    "scheduler = torch.optim.lr_scheduler.CosineAnnealingLR(\n",
    "    optimizer,     T_max=50,  # maximum number of epochs\n",
    "    eta_min=1e-5  # minimum learning rate\n",
    ")\n",
    "\n",
    "# train the model\n",
    "best_val_loss = float('inf')\n",
    "no_improve_epochs = 0  # number of epochs with no improvement\n",
    "\n",
    "epoch_pbar = tqdm.tqdm(range(NUM_EPOCHS), desc=\"Training\", unit=\"epoch\")\n",
    "min_avg_total_loss = 0\n",
    "epochs = 0\n",
    "\n",
    "train_losses = []\n",
    "val_losses = []\n",
    "\n",
    "for epoch in epoch_pbar:\n",
    "    all_train_metrics = train(model, trainloader, epoch, alpha, beta,\n",
    "                              optimizer, recon_criterion, class_criterion)\n",
    "    train_losses.append(all_train_metrics['total_loss'])\n",
    "\n",
    "    avg_recon, avg_class, total_loss, acc = evaluation(\n",
    "        testloader, model, recon_criterion, class_criterion, alpha, beta)\n",
    "    val_losses.append(total_loss)\n",
    "\n",
    "    scheduler.step()\n",
    "    if total_loss < best_val_loss:\n",
    "        best_val_loss = total_loss\n",
    "        no_improve_epochs = 0\n",
    "        torch.save(model.state_dict(), filename)  # save best model\n",
    "    else:\n",
    "        no_improve_epochs += 1\n",
    "        if no_improve_epochs >= EARLY_STOPPING:\n",
    "            epoch_pbar.write(f\"Early stopping triggered at epoch {epoch+1}\")\n",
    "            early_stop = True\n",
    "            break\n",
    "\n",
    "model.load_state_dict(torch.load(filename))\n",
    "avg_recon, avg_class, total_loss, acc = evaluation(testloader, model, recon_criterion,\n",
    "                                                   class_criterion, alpha, beta)\n",
    "\n",
    "print(f'Final => '\n",
    "      f'Avg Recon Loss: {avg_recon:.4f} | '\n",
    "      f'Avg Class Loss: {avg_class:.4f} | '\n",
    "      f'Total loss: {total_loss:.4f} | '\n",
    "      f'Class Acc: {acc:.2f}%')"
   ]
  },
  {
   "cell_type": "code",
   "execution_count": null,
   "id": "933dc136",
   "metadata": {},
   "outputs": [],
   "source": [
    "# plot the training and validation loss\n",
    "plt.plot(train_losses, label='Training Loss')\n",
    "plt.plot(val_losses, label='Validation Loss')\n",
    "plt.title('Training and Validation Loss alpha=5.0, beta=5.0')\n",
    "plt.xlabel('Epoch')\n",
    "plt.ylabel('Loss')\n",
    "plt.legend()\n",
    "plt.show()"
   ]
  },
  {
   "cell_type": "code",
   "execution_count": null,
   "id": "24d35710",
   "metadata": {},
   "outputs": [],
   "source": [
    "# Alpha is 0.1 and Beta is 1.0\n",
    "alpha = 0.1\n",
    "beta = 1.0\n",
    "filename = 'best_model_a0.1_b1.0.pth'\n",
    "\n",
    "# define the model, optimizer, and scheduler\n",
    "model = DualHeadNet().to(device)\n",
    "optimizer = torch.optim.Adam(model.parameters(), lr=0.001)\n",
    "scheduler = torch.optim.lr_scheduler.CosineAnnealingLR(\n",
    "    optimizer,     T_max=50,  # maximum number of epochs\n",
    "    eta_min=1e-5  # minimum learning rate\n",
    ")\n",
    "\n",
    "# train the model\n",
    "best_val_loss = float('inf')\n",
    "no_improve_epochs = 0  # number of epochs with no improvement\n",
    "\n",
    "epoch_pbar = tqdm.tqdm(range(NUM_EPOCHS), desc=\"Training\", unit=\"epoch\")\n",
    "min_avg_total_loss = 0\n",
    "epochs = 0\n",
    "\n",
    "train_losses = []\n",
    "val_losses = []\n",
    "\n",
    "for epoch in epoch_pbar:\n",
    "    all_train_metrics = train(model, trainloader, epoch, alpha, beta,\n",
    "                              optimizer, recon_criterion, class_criterion)\n",
    "    train_losses.append(all_train_metrics['total_loss'])\n",
    "\n",
    "    avg_recon, avg_class, total_loss, acc = evaluation(\n",
    "        testloader, model, recon_criterion, class_criterion, alpha, beta)\n",
    "    val_losses.append(total_loss)\n",
    "\n",
    "    scheduler.step()\n",
    "    if total_loss < best_val_loss:\n",
    "        best_val_loss = total_loss\n",
    "        no_improve_epochs = 0\n",
    "        torch.save(model.state_dict(), filename)  # save best model\n",
    "    else:\n",
    "        no_improve_epochs += 1\n",
    "        if no_improve_epochs >= EARLY_STOPPING:\n",
    "            epoch_pbar.write(f\"Early stopping triggered at epoch {epoch+1}\")\n",
    "            early_stop = True\n",
    "            break\n",
    "\n",
    "model.load_state_dict(torch.load(filename))\n",
    "avg_recon, avg_class, total_loss, acc = evaluation(testloader, model, recon_criterion,\n",
    "                                                   class_criterion, alpha, beta)\n",
    "\n",
    "print(f'Final => '\n",
    "      f'Avg Recon Loss: {avg_recon:.4f} | '\n",
    "      f'Avg Class Loss: {avg_class:.4f} | '\n",
    "      f'Total loss: {total_loss:.4f} | '\n",
    "      f'Class Acc: {acc:.2f}%')"
   ]
  },
  {
   "cell_type": "code",
   "execution_count": null,
   "id": "4fd38726",
   "metadata": {},
   "outputs": [],
   "source": [
    "# plot the training and validation loss\n",
    "plt.plot(train_losses, label='Training Loss')\n",
    "plt.plot(val_losses, label='Validation Loss')\n",
    "plt.title('Training and Validation Loss alpha=0.1, beta=1.0')\n",
    "plt.xlabel('Epoch')\n",
    "plt.ylabel('Loss')\n",
    "plt.legend()\n",
    "plt.show()"
   ]
  },
  {
   "cell_type": "code",
   "execution_count": null,
   "id": "aa1469e3",
   "metadata": {},
   "outputs": [],
   "source": [
    "# Alpha is 1.0 and Beta is 0.1\n",
    "alpha = 0.1\n",
    "beta = 1.0\n",
    "filename = 'best_model_a1.0_b0.1.pth'\n",
    "\n",
    "# define the model, optimizer, and scheduler\n",
    "model = DualHeadNet().to(device)\n",
    "optimizer = torch.optim.Adam(model.parameters(), lr=0.001)\n",
    "scheduler = torch.optim.lr_scheduler.CosineAnnealingLR(\n",
    "    optimizer,     T_max=50,  # maximum number of epochs\n",
    "    eta_min=1e-5  # minimum learning rate\n",
    ")\n",
    "\n",
    "# train the model\n",
    "best_val_loss = float('inf')\n",
    "no_improve_epochs = 0  # number of epochs with no improvement\n",
    "\n",
    "epoch_pbar = tqdm.tqdm(range(NUM_EPOCHS), desc=\"Training\", unit=\"epoch\")\n",
    "min_avg_total_loss = 0\n",
    "epochs = 0\n",
    "\n",
    "train_losses = []\n",
    "val_losses = []\n",
    "\n",
    "for epoch in epoch_pbar:\n",
    "    all_train_metrics = train(model, trainloader, epoch, alpha, beta,\n",
    "                              optimizer, recon_criterion, class_criterion)\n",
    "    train_losses.append(all_train_metrics['total_loss'])\n",
    "\n",
    "    avg_recon, avg_class, total_loss, acc = evaluation(\n",
    "        testloader, model, recon_criterion, class_criterion, alpha, beta)\n",
    "    val_losses.append(total_loss)\n",
    "\n",
    "    scheduler.step()\n",
    "    if total_loss < best_val_loss:\n",
    "        best_val_loss = total_loss\n",
    "        no_improve_epochs = 0\n",
    "        torch.save(model.state_dict(), filename)  # save best model\n",
    "    else:\n",
    "        no_improve_epochs += 1\n",
    "        if no_improve_epochs >= EARLY_STOPPING:\n",
    "            epoch_pbar.write(f\"Early stopping triggered at epoch {epoch+1}\")\n",
    "            early_stop = True\n",
    "            break\n",
    "\n",
    "model.load_state_dict(torch.load(filename))\n",
    "avg_recon, avg_class, total_loss, acc = evaluation(testloader, model, recon_criterion,\n",
    "                                                   class_criterion, alpha, beta)\n",
    "\n",
    "print(f'Final => '\n",
    "      f'Avg Recon Loss: {avg_recon:.4f} | '\n",
    "      f'Avg Class Loss: {avg_class:.4f} | '\n",
    "      f'Total loss: {total_loss:.4f} | '\n",
    "      f'Class Acc: {acc:.2f}%')"
   ]
  },
  {
   "cell_type": "code",
   "execution_count": null,
   "id": "9979f83c",
   "metadata": {},
   "outputs": [],
   "source": [
    "# plot the training and validation loss\n",
    "plt.plot(train_losses, label='Training Loss')\n",
    "plt.plot(val_losses, label='Validation Loss')\n",
    "plt.title('Training and Validation Loss alpha=1.0, beta=0.1')\n",
    "plt.xlabel('Epoch')\n",
    "plt.ylabel('Loss')\n",
    "plt.legend()\n",
    "plt.show()"
   ]
  }
 ],
 "metadata": {
  "kernelspec": {
   "display_name": "assign2",
   "language": "python",
   "name": "python3"
  },
  "language_info": {
   "codemirror_mode": {
    "name": "ipython",
    "version": 3
   },
   "file_extension": ".py",
   "mimetype": "text/x-python",
   "name": "python",
   "nbconvert_exporter": "python",
   "pygments_lexer": "ipython3",
   "version": "3.12.9"
  }
 },
 "nbformat": 4,
 "nbformat_minor": 5
}
